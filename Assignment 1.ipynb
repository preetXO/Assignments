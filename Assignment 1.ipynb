{
 "cells": [
  {
   "cell_type": "markdown",
   "source": [
    "# Assignment 1"
   ],
   "metadata": {
    "collapsed": false,
    "pycharm": {
     "name": "#%% md\n"
    }
   }
  },
  {
   "cell_type": "markdown",
   "source": [
    "#### 1. In the below elements which of them are values or an expression? eg:- values can be integer or string and expressions will be mathematical operators.\n",
    "1. \\* : mathematical operator\n",
    "2. 'hello' : value\n",
    "3. -87.8: value\n",
    "4. -: mathematical operator\n",
    "5. / : mathematical operator\n",
    "6. +: mathematical operator\n",
    "7. 6: value"
   ],
   "metadata": {
    "collapsed": false,
    "pycharm": {
     "name": "#%% md\n"
    }
   }
  },
  {
   "cell_type": "markdown",
   "source": [
    "#### 2. What is the difference between string and variable?\n",
    "A variable is used as an identifier, for refreshing to some value which we need in our computational task.\n",
    "Whereas a string is a data type, you can create a string by enclosing some text in “ ” or ‘ ’ parentheses. In addition, a string is a tuple, which is immutable and allows you to perform various tuple or string-related operations."
   ],
   "metadata": {
    "collapsed": false,
    "pycharm": {
     "name": "#%% md\n"
    }
   }
  },
  {
   "cell_type": "markdown",
   "source": [
    "#### 3. Describe three different data types.\n",
    "int: it holds an integer value\n",
    "float: it holds a floating-point value, which is useful when you want precision in your program\n",
    "char: it holds a single character value if we add more characters to it. Then it would become a string, even if we add a space as it counts as one character"
   ],
   "metadata": {
    "collapsed": false,
    "pycharm": {
     "name": "#%% md\n"
    }
   }
  },
  {
   "cell_type": "markdown",
   "source": [
    "#### 4. What is an expression made up of? What do all expressions do?\n",
    "An expression is made up of values and mathematical operators in between them, for example, 3 + 5 is an expression it will evaluate to some result based on the operation and the values used.\n",
    "In computation, you can think of expressions as some symbols for eg, +, -, *, /, //  which are placed in between the same or different data types/values. The case of different data types depends on the type of operation being performed on what data types of both. In further these expressions would evaluate to some result."
   ],
   "metadata": {
    "collapsed": false,
    "pycharm": {
     "name": "#%% md\n"
    }
   }
  },
  {
   "cell_type": "markdown",
   "source": [
    "#### 5. This assignment statements, like spam = 10. What is the difference between an expression and a statement?\n",
    "An assignment operator is used to assign a value to an already defined identifier/variable or to create a new identifier/variable. This variable can then be used for further tasks in our program as per the requirements.\n",
    "Whereas an expression would evaluate to some result, which can then be then stored in some variable with the help of assignment operators."
   ],
   "metadata": {
    "collapsed": false,
    "pycharm": {
     "name": "#%% md\n"
    }
   }
  },
  {
   "cell_type": "markdown",
   "source": [
    "#### 6. After running the following code, what does the variable bacon contain?\n",
    "##### bacon = 22\n",
    "##### bacon + 1\n",
    "bacon would contain the value 22 because we haven’t changed the value in variable bacon."
   ],
   "metadata": {
    "collapsed": false,
    "pycharm": {
     "name": "#%% md\n"
    }
   }
  },
  {
   "cell_type": "markdown",
   "source": [
    "#### 7. What should the values of the following two terms be?\n",
    "'spam' + 'spamspam'\n",
    "'spam' * 3\n",
    "first one would be “spamspamspam”\n",
    "second one  would be “spamspamspam”"
   ],
   "metadata": {
    "collapsed": false,
    "pycharm": {
     "name": "#%% md\n"
    }
   }
  },
  {
   "cell_type": "markdown",
   "source": [
    "#### 8. Why is eggs a valid variable name while 100 is invalid?\n",
    "The reason is that 100 is a value and it can’t be used as an identifier, eggs is not a value, keyword hence it can be used as an identifier/variable"
   ],
   "metadata": {
    "collapsed": false,
    "pycharm": {
     "name": "#%% md\n"
    }
   }
  },
  {
   "cell_type": "markdown",
   "source": [
    "#### 9. What three functions can be used to get the integer, floating-point number, or string version of a value?\n",
    "The get integer, wrap the value around with function int(), and to get floating-point use float() and in last to get a string use str() functions."
   ],
   "metadata": {
    "collapsed": false,
    "pycharm": {
     "name": "#%% md\n"
    }
   }
  },
  {
   "cell_type": "markdown",
   "source": [
    "#### 10. Why does this expression cause an error? How can you fix it?\n",
    "'I have eaten ' + 99 + ' burritos.'\n",
    "This expression will cause a type error, as ‘I have eaten’  and 99 are not of the same basic data types(except for the case of float and int). Hence performing an addition operation on them would cause an error.\n",
    "you can sole it by using str function to convert 99 to a string data type\n",
    "‘I have eater’ + str(99) + ‘burritos\n",
    "or by this method also\n",
    "‘I have eaten’ + ‘99’ + ‘burritos’"
   ],
   "metadata": {
    "collapsed": false,
    "pycharm": {
     "name": "#%% md\n"
    }
   }
  }
 ],
 "metadata": {
  "kernelspec": {
   "display_name": "Python 3",
   "language": "python",
   "name": "python3"
  },
  "language_info": {
   "codemirror_mode": {
    "name": "ipython",
    "version": 2
   },
   "file_extension": ".py",
   "mimetype": "text/x-python",
   "name": "python",
   "nbconvert_exporter": "python",
   "pygments_lexer": "ipython2",
   "version": "2.7.6"
  }
 },
 "nbformat": 4,
 "nbformat_minor": 0
}